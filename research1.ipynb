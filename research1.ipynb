{
 "cells": [
  {
   "cell_type": "code",
   "execution_count": 1,
   "id": "3f16e066",
   "metadata": {
    "_cell_guid": "b1076dfc-b9ad-4769-8c92-a6c4dae69d19",
    "_uuid": "8f2839f25d086af736a60e9eeb907d3b93b6e0e5",
    "execution": {
     "iopub.execute_input": "2025-02-12T01:44:15.139213Z",
     "iopub.status.busy": "2025-02-12T01:44:15.138689Z",
     "iopub.status.idle": "2025-02-12T01:44:16.129252Z",
     "shell.execute_reply": "2025-02-12T01:44:16.127758Z"
    },
    "papermill": {
     "duration": 1.002995,
     "end_time": "2025-02-12T01:44:16.131323",
     "exception": false,
     "start_time": "2025-02-12T01:44:15.128328",
     "status": "completed"
    },
    "tags": []
   },
   "outputs": [
    {
     "name": "stdout",
     "output_type": "stream",
     "text": [
      "/kaggle/input/healthcare-workforce-mental-health-dataset/Healthcare Workforce Mental Health Dataset Overview.pdf\n",
      "/kaggle/input/healthcare-workforce-mental-health-dataset/Case Study Burnout and Turnover in Healthcare Workers.pdf\n",
      "/kaggle/input/healthcare-workforce-mental-health-dataset/Healthcare Workforce Mental Health Dataset.csv\n"
     ]
    }
   ],
   "source": [
    "# This Python 3 environment comes with many helpful analytics libraries installed\n",
    "# It is defined by the kaggle/python Docker image: https://github.com/kaggle/docker-python\n",
    "# For example, here's several helpful packages to load\n",
    "\n",
    "import numpy as np # linear algebra\n",
    "import pandas as pd # data processing, CSV file I/O (e.g. pd.read_csv)\n",
    "\n",
    "# Input data files are available in the read-only \"../input/\" directory\n",
    "# For example, running this (by clicking run or pressing Shift+Enter) will list all files under the input directory\n",
    "\n",
    "import os\n",
    "for dirname, _, filenames in os.walk('/kaggle/input'):\n",
    "    for filename in filenames:\n",
    "        print(os.path.join(dirname, filename))\n",
    "\n",
    "# You can write up to 20GB to the current directory (/kaggle/working/) that gets preserved as output when you create a version using \"Save & Run All\" \n",
    "# You can also write temporary files to /kaggle/temp/, but they won't be saved outside of the current session"
   ]
  },
  {
   "cell_type": "markdown",
   "id": "99c13bed",
   "metadata": {
    "papermill": {
     "duration": 0.008093,
     "end_time": "2025-02-12T01:44:16.148364",
     "exception": false,
     "start_time": "2025-02-12T01:44:16.140271",
     "status": "completed"
    },
    "tags": []
   },
   "source": [
    "# Case Study: Addressing Burnout and Turnover in Healthcare Workers\n",
    "# 1. **Business Context**  \n",
    "   **Client Company:** A healthcare organization aiming to understand the mental health challenges faced by their employees to improve employee well-being and reduce turnover.  \n",
    "   **Data Description:** This dataset has information about healthcare employees like their roles, workplace factors,stress levels, burnout frequency,job satisfaction and the possibility of a turnover.  \n",
    "   **Need for analysis:** The company needs to understand what are the key features that causes burnout and turnover among their employees and come up with ways to improve employee well-being and reduce turnover."
   ]
  },
  {
   "cell_type": "markdown",
   "id": "626f83bc",
   "metadata": {
    "papermill": {
     "duration": 0.007967,
     "end_time": "2025-02-12T01:44:16.164599",
     "exception": false,
     "start_time": "2025-02-12T01:44:16.156632",
     "status": "completed"
    },
    "tags": []
   },
   "source": [
    "# 2. **Data Exploration**\n",
    "**Goal**:Understand the dataset structure and characteristics"
   ]
  },
  {
   "cell_type": "markdown",
   "id": "f6c53fdc",
   "metadata": {
    "papermill": {
     "duration": 0.008184,
     "end_time": "2025-02-12T01:44:16.181158",
     "exception": false,
     "start_time": "2025-02-12T01:44:16.172974",
     "status": "completed"
    },
    "tags": []
   },
   "source": [
    "**2.1 Data Loading and Library importation**  \n",
    "Load the dataset using the pandas library and display the first few rows.  \n",
    "Matplotlib library for plotting simple graphs.  \n",
    "Seaborn Library for advance dataset analysis.\n"
   ]
  },
  {
   "cell_type": "code",
   "execution_count": 2,
   "id": "a5943fe4",
   "metadata": {
    "execution": {
     "iopub.execute_input": "2025-02-12T01:44:16.199294Z",
     "iopub.status.busy": "2025-02-12T01:44:16.198784Z",
     "iopub.status.idle": "2025-02-12T01:44:18.211504Z",
     "shell.execute_reply": "2025-02-12T01:44:18.210012Z"
    },
    "papermill": {
     "duration": 2.024038,
     "end_time": "2025-02-12T01:44:18.213496",
     "exception": false,
     "start_time": "2025-02-12T01:44:16.189458",
     "status": "completed"
    },
    "tags": []
   },
   "outputs": [
    {
     "data": {
      "text/html": [
       "<div>\n",
       "<style scoped>\n",
       "    .dataframe tbody tr th:only-of-type {\n",
       "        vertical-align: middle;\n",
       "    }\n",
       "\n",
       "    .dataframe tbody tr th {\n",
       "        vertical-align: top;\n",
       "    }\n",
       "\n",
       "    .dataframe thead th {\n",
       "        text-align: right;\n",
       "    }\n",
       "</style>\n",
       "<table border=\"1\" class=\"dataframe\">\n",
       "  <thead>\n",
       "    <tr style=\"text-align: right;\">\n",
       "      <th></th>\n",
       "      <th>Employee ID</th>\n",
       "      <th>Employee Type</th>\n",
       "      <th>Department</th>\n",
       "      <th>Workplace Factor</th>\n",
       "      <th>Stress Level</th>\n",
       "      <th>Burnout Frequency</th>\n",
       "      <th>Job Satisfaction</th>\n",
       "      <th>Access to EAPs</th>\n",
       "      <th>Mental Health Absences</th>\n",
       "      <th>Turnover Intention</th>\n",
       "    </tr>\n",
       "  </thead>\n",
       "  <tbody>\n",
       "    <tr>\n",
       "      <th>0</th>\n",
       "      <td>HCP-00001</td>\n",
       "      <td>Pediatric Nurse</td>\n",
       "      <td>Pediatrics</td>\n",
       "      <td>Heavy Workload</td>\n",
       "      <td>8</td>\n",
       "      <td>Often</td>\n",
       "      <td>2</td>\n",
       "      <td>Yes</td>\n",
       "      <td>6</td>\n",
       "      <td>No</td>\n",
       "    </tr>\n",
       "    <tr>\n",
       "      <th>1</th>\n",
       "      <td>HCP-00002</td>\n",
       "      <td>Laboratory Technician</td>\n",
       "      <td>Laboratory</td>\n",
       "      <td>Safety Concerns</td>\n",
       "      <td>8</td>\n",
       "      <td>Often</td>\n",
       "      <td>1</td>\n",
       "      <td>Yes</td>\n",
       "      <td>12</td>\n",
       "      <td>No</td>\n",
       "    </tr>\n",
       "    <tr>\n",
       "      <th>2</th>\n",
       "      <td>HCP-00003</td>\n",
       "      <td>Nursing Assistant</td>\n",
       "      <td>Assisted Living</td>\n",
       "      <td>Poor Work Environment</td>\n",
       "      <td>6</td>\n",
       "      <td>Occasionally</td>\n",
       "      <td>2</td>\n",
       "      <td>Yes</td>\n",
       "      <td>9</td>\n",
       "      <td>Yes</td>\n",
       "    </tr>\n",
       "    <tr>\n",
       "      <th>3</th>\n",
       "      <td>HCP-00004</td>\n",
       "      <td>Medical Assistant</td>\n",
       "      <td>Outpatient Services</td>\n",
       "      <td>Poor Work Environment</td>\n",
       "      <td>7</td>\n",
       "      <td>Never</td>\n",
       "      <td>4</td>\n",
       "      <td>No</td>\n",
       "      <td>11</td>\n",
       "      <td>No</td>\n",
       "    </tr>\n",
       "    <tr>\n",
       "      <th>4</th>\n",
       "      <td>HCP-00005</td>\n",
       "      <td>Registered Nurse</td>\n",
       "      <td>General Medicine</td>\n",
       "      <td>Work-Life Imbalance</td>\n",
       "      <td>8</td>\n",
       "      <td>Occasionally</td>\n",
       "      <td>2</td>\n",
       "      <td>Yes</td>\n",
       "      <td>7</td>\n",
       "      <td>No</td>\n",
       "    </tr>\n",
       "  </tbody>\n",
       "</table>\n",
       "</div>"
      ],
      "text/plain": [
       "  Employee ID          Employee Type           Department  \\\n",
       "0   HCP-00001        Pediatric Nurse           Pediatrics   \n",
       "1   HCP-00002  Laboratory Technician           Laboratory   \n",
       "2   HCP-00003      Nursing Assistant      Assisted Living   \n",
       "3   HCP-00004      Medical Assistant  Outpatient Services   \n",
       "4   HCP-00005       Registered Nurse     General Medicine   \n",
       "\n",
       "        Workplace Factor  Stress Level Burnout Frequency  Job Satisfaction  \\\n",
       "0         Heavy Workload             8             Often                 2   \n",
       "1        Safety Concerns             8             Often                 1   \n",
       "2  Poor Work Environment             6      Occasionally                 2   \n",
       "3  Poor Work Environment             7             Never                 4   \n",
       "4    Work-Life Imbalance             8      Occasionally                 2   \n",
       "\n",
       "  Access to EAPs  Mental Health Absences Turnover Intention  \n",
       "0            Yes                       6                 No  \n",
       "1            Yes                      12                 No  \n",
       "2            Yes                       9                Yes  \n",
       "3             No                      11                 No  \n",
       "4            Yes                       7                 No  "
      ]
     },
     "execution_count": 2,
     "metadata": {},
     "output_type": "execute_result"
    }
   ],
   "source": [
    "import pandas as pd\n",
    "import matplotlib.pyplot as plt\n",
    "import seaborn as sns\n",
    "data=pd.read_csv('/kaggle/input/healthcare-workforce-mental-health-dataset/Healthcare Workforce Mental Health Dataset.csv')\n",
    "data.head()"
   ]
  },
  {
   "cell_type": "markdown",
   "id": "91894d87",
   "metadata": {
    "papermill": {
     "duration": 0.008342,
     "end_time": "2025-02-12T01:44:18.230520",
     "exception": false,
     "start_time": "2025-02-12T01:44:18.222178",
     "status": "completed"
    },
    "tags": []
   },
   "source": [
    "**2.2 Basic Statistics**  \n",
    "Generate a general summary of the dataset to understand its structure"
   ]
  },
  {
   "cell_type": "code",
   "execution_count": 3,
   "id": "a79cdc9c",
   "metadata": {
    "execution": {
     "iopub.execute_input": "2025-02-12T01:44:18.250488Z",
     "iopub.status.busy": "2025-02-12T01:44:18.250128Z",
     "iopub.status.idle": "2025-02-12T01:44:18.282073Z",
     "shell.execute_reply": "2025-02-12T01:44:18.280631Z"
    },
    "papermill": {
     "duration": 0.045424,
     "end_time": "2025-02-12T01:44:18.284226",
     "exception": false,
     "start_time": "2025-02-12T01:44:18.238802",
     "status": "completed"
    },
    "tags": []
   },
   "outputs": [
    {
     "name": "stdout",
     "output_type": "stream",
     "text": [
      "<class 'pandas.core.frame.DataFrame'>\n",
      "RangeIndex: 5000 entries, 0 to 4999\n",
      "Data columns (total 10 columns):\n",
      " #   Column                  Non-Null Count  Dtype \n",
      "---  ------                  --------------  ----- \n",
      " 0   Employee ID             5000 non-null   object\n",
      " 1   Employee Type           5000 non-null   object\n",
      " 2   Department              5000 non-null   object\n",
      " 3   Workplace Factor        5000 non-null   object\n",
      " 4   Stress Level            5000 non-null   int64 \n",
      " 5   Burnout Frequency       5000 non-null   object\n",
      " 6   Job Satisfaction        5000 non-null   int64 \n",
      " 7   Access to EAPs          5000 non-null   object\n",
      " 8   Mental Health Absences  5000 non-null   int64 \n",
      " 9   Turnover Intention      5000 non-null   object\n",
      "dtypes: int64(3), object(7)\n",
      "memory usage: 390.8+ KB\n"
     ]
    }
   ],
   "source": [
    "data.info()"
   ]
  },
  {
   "cell_type": "markdown",
   "id": "c4056ace",
   "metadata": {
    "papermill": {
     "duration": 0.008975,
     "end_time": "2025-02-12T01:44:18.302139",
     "exception": false,
     "start_time": "2025-02-12T01:44:18.293164",
     "status": "completed"
    },
    "tags": []
   },
   "source": [
    "**Summary**  \n",
    "This shows that our dataset has 7 descriptive columns and 3 numerical columns"
   ]
  },
  {
   "cell_type": "markdown",
   "id": "7780a7c6",
   "metadata": {
    "papermill": {
     "duration": 0.008154,
     "end_time": "2025-02-12T01:44:18.318711",
     "exception": false,
     "start_time": "2025-02-12T01:44:18.310557",
     "status": "completed"
    },
    "tags": []
   },
   "source": [
    "**2.3 Deep analysis**  \n",
    "Lets now have a deep look into the values found in the dataset and derive a summary from it."
   ]
  },
  {
   "cell_type": "code",
   "execution_count": 4,
   "id": "5f8c781a",
   "metadata": {
    "execution": {
     "iopub.execute_input": "2025-02-12T01:44:18.336812Z",
     "iopub.status.busy": "2025-02-12T01:44:18.336387Z",
     "iopub.status.idle": "2025-02-12T01:44:18.357871Z",
     "shell.execute_reply": "2025-02-12T01:44:18.356696Z"
    },
    "papermill": {
     "duration": 0.032588,
     "end_time": "2025-02-12T01:44:18.359670",
     "exception": false,
     "start_time": "2025-02-12T01:44:18.327082",
     "status": "completed"
    },
    "tags": []
   },
   "outputs": [
    {
     "data": {
      "text/html": [
       "<div>\n",
       "<style scoped>\n",
       "    .dataframe tbody tr th:only-of-type {\n",
       "        vertical-align: middle;\n",
       "    }\n",
       "\n",
       "    .dataframe tbody tr th {\n",
       "        vertical-align: top;\n",
       "    }\n",
       "\n",
       "    .dataframe thead th {\n",
       "        text-align: right;\n",
       "    }\n",
       "</style>\n",
       "<table border=\"1\" class=\"dataframe\">\n",
       "  <thead>\n",
       "    <tr style=\"text-align: right;\">\n",
       "      <th></th>\n",
       "      <th>Stress Level</th>\n",
       "      <th>Job Satisfaction</th>\n",
       "      <th>Mental Health Absences</th>\n",
       "    </tr>\n",
       "  </thead>\n",
       "  <tbody>\n",
       "    <tr>\n",
       "      <th>count</th>\n",
       "      <td>5000.000000</td>\n",
       "      <td>5000.000000</td>\n",
       "      <td>5000.000000</td>\n",
       "    </tr>\n",
       "    <tr>\n",
       "      <th>mean</th>\n",
       "      <td>7.327800</td>\n",
       "      <td>2.202200</td>\n",
       "      <td>7.396200</td>\n",
       "    </tr>\n",
       "    <tr>\n",
       "      <th>std</th>\n",
       "      <td>1.407673</td>\n",
       "      <td>1.045722</td>\n",
       "      <td>2.878625</td>\n",
       "    </tr>\n",
       "    <tr>\n",
       "      <th>min</th>\n",
       "      <td>4.000000</td>\n",
       "      <td>1.000000</td>\n",
       "      <td>0.000000</td>\n",
       "    </tr>\n",
       "    <tr>\n",
       "      <th>25%</th>\n",
       "      <td>7.000000</td>\n",
       "      <td>1.000000</td>\n",
       "      <td>5.000000</td>\n",
       "    </tr>\n",
       "    <tr>\n",
       "      <th>50%</th>\n",
       "      <td>8.000000</td>\n",
       "      <td>2.000000</td>\n",
       "      <td>7.000000</td>\n",
       "    </tr>\n",
       "    <tr>\n",
       "      <th>75%</th>\n",
       "      <td>8.000000</td>\n",
       "      <td>3.000000</td>\n",
       "      <td>9.000000</td>\n",
       "    </tr>\n",
       "    <tr>\n",
       "      <th>max</th>\n",
       "      <td>9.000000</td>\n",
       "      <td>5.000000</td>\n",
       "      <td>19.000000</td>\n",
       "    </tr>\n",
       "  </tbody>\n",
       "</table>\n",
       "</div>"
      ],
      "text/plain": [
       "       Stress Level  Job Satisfaction  Mental Health Absences\n",
       "count   5000.000000       5000.000000             5000.000000\n",
       "mean       7.327800          2.202200                7.396200\n",
       "std        1.407673          1.045722                2.878625\n",
       "min        4.000000          1.000000                0.000000\n",
       "25%        7.000000          1.000000                5.000000\n",
       "50%        8.000000          2.000000                7.000000\n",
       "75%        8.000000          3.000000                9.000000\n",
       "max        9.000000          5.000000               19.000000"
      ]
     },
     "execution_count": 4,
     "metadata": {},
     "output_type": "execute_result"
    }
   ],
   "source": [
    "data.describe()"
   ]
  },
  {
   "cell_type": "markdown",
   "id": "f01f2f62",
   "metadata": {
    "papermill": {
     "duration": 0.008682,
     "end_time": "2025-02-12T01:44:18.378181",
     "exception": false,
     "start_time": "2025-02-12T01:44:18.369499",
     "status": "completed"
    },
    "tags": []
   },
   "source": [
    "**Summary**  \n",
    "\n",
    "* The dataset has 5000 employees who report high stress levels with a mean of 7.33 and majority(75%) having a stress level of 7 or 8.\n",
    "* The average job satisfaction rating is very low at 2.20, where a significant portion of employees(25%) reporting the lowest at 1.\n",
    "* The average number of mental health absences is moderately high with a significant variation across employees.  \n"
   ]
  },
  {
   "cell_type": "markdown",
   "id": "c4c525f9",
   "metadata": {
    "papermill": {
     "duration": 0.008218,
     "end_time": "2025-02-12T01:44:18.395120",
     "exception": false,
     "start_time": "2025-02-12T01:44:18.386902",
     "status": "completed"
    },
    "tags": []
   },
   "source": [
    "# 3. Data Preprocessing  \n",
    "**Goal:** Clean and prepare the dataset for analysis."
   ]
  },
  {
   "cell_type": "markdown",
   "id": "8f4c678a",
   "metadata": {
    "papermill": {
     "duration": 0.008471,
     "end_time": "2025-02-12T01:44:18.412816",
     "exception": false,
     "start_time": "2025-02-12T01:44:18.404345",
     "status": "completed"
    },
    "tags": []
   },
   "source": [
    "**3.1 Drop Unnecesarry Columns**  \n",
    "Since the Employee ID is just an identifier we will drop it as we dont need it in data anlaysis"
   ]
  },
  {
   "cell_type": "code",
   "execution_count": 5,
   "id": "eaf5749c",
   "metadata": {
    "execution": {
     "iopub.execute_input": "2025-02-12T01:44:18.432224Z",
     "iopub.status.busy": "2025-02-12T01:44:18.431785Z",
     "iopub.status.idle": "2025-02-12T01:44:18.440221Z",
     "shell.execute_reply": "2025-02-12T01:44:18.438833Z"
    },
    "papermill": {
     "duration": 0.020521,
     "end_time": "2025-02-12T01:44:18.442388",
     "exception": false,
     "start_time": "2025-02-12T01:44:18.421867",
     "status": "completed"
    },
    "tags": []
   },
   "outputs": [],
   "source": [
    "data.drop(columns=[\"Employee ID\"], inplace=True)"
   ]
  },
  {
   "cell_type": "markdown",
   "id": "fcbc7cbb",
   "metadata": {
    "papermill": {
     "duration": 0.008772,
     "end_time": "2025-02-12T01:44:18.460144",
     "exception": false,
     "start_time": "2025-02-12T01:44:18.451372",
     "status": "completed"
    },
    "tags": []
   },
   "source": [
    "**3.2 Encode Categorical Variables**  \n",
    "Convert categorical objects into numerical representations that are more suitable for analysis and machine learning models as they are compatible with analytical and predictive techniques for more accurate results."
   ]
  },
  {
   "cell_type": "code",
   "execution_count": 6,
   "id": "453a3ddf",
   "metadata": {
    "execution": {
     "iopub.execute_input": "2025-02-12T01:44:18.480813Z",
     "iopub.status.busy": "2025-02-12T01:44:18.480349Z",
     "iopub.status.idle": "2025-02-12T01:44:18.499371Z",
     "shell.execute_reply": "2025-02-12T01:44:18.498109Z"
    },
    "papermill": {
     "duration": 0.032094,
     "end_time": "2025-02-12T01:44:18.501795",
     "exception": false,
     "start_time": "2025-02-12T01:44:18.469701",
     "status": "completed"
    },
    "tags": []
   },
   "outputs": [],
   "source": [
    "# Convert 'Burnout Frequency' into ordered numerical values where 0-Never,1-Occasionaly and 2-Often\n",
    "burnout_mapping = {\"Never\": 0, \"Occasionally\": 1, \"Often\": 2}\n",
    "data[\"Burnout Frequency\"] = data[\"Burnout Frequency\"].map(burnout_mapping)\n",
    "\n",
    "# Convert 'Turnover Intention' and 'Access to EAPs' into binary (Yes=1, No=0)\n",
    "data[\"Turnover Intention\"] = data[\"Turnover Intention\"].map({\"Yes\": 1, \"No\": 0})\n",
    "data[\"Access to EAPs\"] = data[\"Access to EAPs\"].map({\"Yes\": 1, \"No\": 0})\n",
    "\n",
    "# Convert categorical 'Department' and 'Workplace Factor' using one-hot encoding\n",
    "data = pd.get_dummies(data, columns=[\"Department\", \"Workplace Factor\"], drop_first=True)\n"
   ]
  },
  {
   "cell_type": "markdown",
   "id": "d1037769",
   "metadata": {
    "papermill": {
     "duration": 0.00839,
     "end_time": "2025-02-12T01:44:18.519717",
     "exception": false,
     "start_time": "2025-02-12T01:44:18.511327",
     "status": "completed"
    },
    "tags": []
   },
   "source": [
    "**Summary**  \n",
    "* **Converted Burnout Frequency:** Since burnout frequency has been represented in form of words it will hard to manipulate during data analysis hence converted to the numbers below:  \n",
    "  0➡️\"Never\"  \n",
    "  1➡️\"Occasionaly\"  \n",
    "  2➡️\"Often\"  \n",
    "* **Converted Turnover Intention and Access to EAPs:** Since both columns contain Yes and No values, we converted them into:  \n",
    "   1➡️\"Yes\"  \n",
    "   2➡️\"No\"  \n",
    "* **Converted Categorical Departement and Workplace Factor:** Since we have several departments and workplace factors, we shall use one-hot encoding to create a new binary column called \"Department\" that stands for all the other departments using binary representation.  \n",
    "*  **drop_first=True:** Helps avoid redundancy by dropping the previous caterories.  "
   ]
  },
  {
   "cell_type": "markdown",
   "id": "05f2f6c9",
   "metadata": {
    "papermill": {
     "duration": 0.008973,
     "end_time": "2025-02-12T01:44:18.537343",
     "exception": false,
     "start_time": "2025-02-12T01:44:18.528370",
     "status": "completed"
    },
    "tags": []
   },
   "source": [
    "**3.3 Reconstruct Department column**\n",
    "Since our dataset has several departments we will reconstruct the Department into one column."
   ]
  },
  {
   "cell_type": "code",
   "execution_count": 7,
   "id": "f4a686dd",
   "metadata": {
    "execution": {
     "iopub.execute_input": "2025-02-12T01:44:18.556170Z",
     "iopub.status.busy": "2025-02-12T01:44:18.555743Z",
     "iopub.status.idle": "2025-02-12T01:44:18.567437Z",
     "shell.execute_reply": "2025-02-12T01:44:18.565973Z"
    },
    "papermill": {
     "duration": 0.023192,
     "end_time": "2025-02-12T01:44:18.569521",
     "exception": false,
     "start_time": "2025-02-12T01:44:18.546329",
     "status": "completed"
    },
    "tags": []
   },
   "outputs": [],
   "source": [
    "\n",
    "department_columns = [\n",
    "    'Department_Assisted Living', 'Department_General Medicine', 'Department_General Practice',\n",
    "    'Department_ICU', 'Department_Laboratory', 'Department_Outpatient Services',\n",
    "    'Department_Pediatrics', 'Department_Radiology', 'Department_Specialty Care'\n",
    "]\n",
    "data[\"Department\"] = data[department_columns].idxmax(axis=1).str.replace(\"Department_\", \"\")"
   ]
  },
  {
   "cell_type": "markdown",
   "id": "38e23ffb",
   "metadata": {
    "papermill": {
     "duration": 0.008409,
     "end_time": "2025-02-12T01:44:18.587141",
     "exception": false,
     "start_time": "2025-02-12T01:44:18.578732",
     "status": "completed"
    },
    "tags": []
   },
   "source": [
    "**Summary**  \n",
    "\n",
    "* From encoding we converted the department data into \"1➡️yes\" incase the employee belongs to that department and \"0➡️No\" incase they do not belong to the department.\n",
    "* For better readability and analysis, we will convert it into one column \"Department\".\n"
   ]
  },
  {
   "cell_type": "markdown",
   "id": "bcf86840",
   "metadata": {
    "papermill": {
     "duration": 0.0083,
     "end_time": "2025-02-12T01:44:18.604053",
     "exception": false,
     "start_time": "2025-02-12T01:44:18.595753",
     "status": "completed"
    },
    "tags": []
   },
   "source": [
    "**3.4 Check for missing values**  \n",
    "Check for  missing values incase they exist we need to handle them."
   ]
  },
  {
   "cell_type": "code",
   "execution_count": 8,
   "id": "b9b2a0e3",
   "metadata": {
    "execution": {
     "iopub.execute_input": "2025-02-12T01:44:18.622608Z",
     "iopub.status.busy": "2025-02-12T01:44:18.622165Z",
     "iopub.status.idle": "2025-02-12T01:44:18.631769Z",
     "shell.execute_reply": "2025-02-12T01:44:18.630484Z"
    },
    "papermill": {
     "duration": 0.021224,
     "end_time": "2025-02-12T01:44:18.633984",
     "exception": false,
     "start_time": "2025-02-12T01:44:18.612760",
     "status": "completed"
    },
    "tags": []
   },
   "outputs": [
    {
     "name": "stdout",
     "output_type": "stream",
     "text": [
      "Missing Values:\n",
      " Employee Type                                0\n",
      "Stress Level                                 0\n",
      "Burnout Frequency                            0\n",
      "Job Satisfaction                             0\n",
      "Access to EAPs                               0\n",
      "Mental Health Absences                       0\n",
      "Turnover Intention                           0\n",
      "Department_Assisted Living                   0\n",
      "Department_General Medicine                  0\n",
      "Department_General Practice                  0\n",
      "Department_ICU                               0\n",
      "Department_Laboratory                        0\n",
      "Department_Outpatient Services               0\n",
      "Department_Pediatrics                        0\n",
      "Department_Radiology                         0\n",
      "Department_Specialty Care                    0\n",
      "Workplace Factor_Emotional Demands           0\n",
      "Workplace Factor_Heavy Workload              0\n",
      "Workplace Factor_Job Insecurity              0\n",
      "Workplace Factor_Poor Work Environment       0\n",
      "Workplace Factor_Safety Concerns             0\n",
      "Workplace Factor_Unclear Job Expectations    0\n",
      "Workplace Factor_Work-Life Imbalance         0\n",
      "Department                                   0\n",
      "dtype: int64\n"
     ]
    }
   ],
   "source": [
    "missing_values = data.isnull().sum()\n",
    "print(\"Missing Values:\\n\", missing_values)"
   ]
  },
  {
   "cell_type": "markdown",
   "id": "5d4cc5b9",
   "metadata": {
    "papermill": {
     "duration": 0.008562,
     "end_time": "2025-02-12T01:44:18.651597",
     "exception": false,
     "start_time": "2025-02-12T01:44:18.643035",
     "status": "completed"
    },
    "tags": []
   },
   "source": [
    "**Summary**  \n",
    "* There are no missing values in the dataset"
   ]
  },
  {
   "cell_type": "markdown",
   "id": "9cd28e23",
   "metadata": {
    "papermill": {
     "duration": 0.008586,
     "end_time": "2025-02-12T01:44:18.669015",
     "exception": false,
     "start_time": "2025-02-12T01:44:18.660429",
     "status": "completed"
    },
    "tags": []
   },
   "source": [
    "**3.4 Normalize Numerical features**  \n",
    "This is done to ensure the values in our dataset have a standard range(0 to 1) so that we can easily compare and use them in machine learning models"
   ]
  },
  {
   "cell_type": "code",
   "execution_count": 9,
   "id": "192cab2e",
   "metadata": {
    "execution": {
     "iopub.execute_input": "2025-02-12T01:44:18.687981Z",
     "iopub.status.busy": "2025-02-12T01:44:18.687610Z",
     "iopub.status.idle": "2025-02-12T01:44:18.891022Z",
     "shell.execute_reply": "2025-02-12T01:44:18.889765Z"
    },
    "papermill": {
     "duration": 0.215298,
     "end_time": "2025-02-12T01:44:18.893198",
     "exception": false,
     "start_time": "2025-02-12T01:44:18.677900",
     "status": "completed"
    },
    "tags": []
   },
   "outputs": [],
   "source": [
    "from sklearn.preprocessing import MinMaxScaler\n",
    "scaler = MinMaxScaler() \n",
    "\n",
    "data[[\"Stress Level\", \"Job Satisfaction\", \"Mental Health Absences\"]] = scaler.fit_transform(\n",
    "    data[[\"Stress Level\", \"Job Satisfaction\", \"Mental Health Absences\"]]\n",
    ")\n"
   ]
  },
  {
   "cell_type": "markdown",
   "id": "bf39d1cc",
   "metadata": {
    "papermill": {
     "duration": 0.00857,
     "end_time": "2025-02-12T01:44:18.911001",
     "exception": false,
     "start_time": "2025-02-12T01:44:18.902431",
     "status": "completed"
    },
    "tags": []
   },
   "source": [
    "**Summary**\n",
    "* The MinMaxScaler is a feature scaling technique from the sklearn library used to normalize numerical data.\n",
    "* This technique scales the values of \"Stress Level\", \"Job Satisfaction\", and \"Mental Health Absences\" by transforming them into a range between 0 and 1.\n",
    "* It ensures that all values fall within the same scale, preventing features with larger ranges from dominating the analysis.\n",
    "* This scaling helps machine learning models work better by keeping values consistent and reducing the effect of extreme numbers.\n",
    "* By applying MinMax scaling, comparisons between features become more meaningful, allowing for better insights into workplace stress and job satisfaction trends."
   ]
  },
  {
   "cell_type": "markdown",
   "id": "b26c7dce",
   "metadata": {
    "papermill": {
     "duration": 0.008515,
     "end_time": "2025-02-12T01:44:18.928431",
     "exception": false,
     "start_time": "2025-02-12T01:44:18.919916",
     "status": "completed"
    },
    "tags": []
   },
   "source": [
    "**3.5 Feature Engineering**  \n",
    "We can extract seasonal trends from the dataset and instead group it by months or seasons"
   ]
  },
  {
   "cell_type": "code",
   "execution_count": 10,
   "id": "6ba3aa45",
   "metadata": {
    "execution": {
     "iopub.execute_input": "2025-02-12T01:44:18.947890Z",
     "iopub.status.busy": "2025-02-12T01:44:18.947486Z",
     "iopub.status.idle": "2025-02-12T01:44:18.955500Z",
     "shell.execute_reply": "2025-02-12T01:44:18.954287Z"
    },
    "papermill": {
     "duration": 0.020145,
     "end_time": "2025-02-12T01:44:18.957394",
     "exception": false,
     "start_time": "2025-02-12T01:44:18.937249",
     "status": "completed"
    },
    "tags": []
   },
   "outputs": [],
   "source": [
    "data[\"Burnout High\"] = data[\"Burnout Frequency\"].apply(lambda x: 1 if x == 2 else 0)"
   ]
  },
  {
   "cell_type": "markdown",
   "id": "7a9d1c19",
   "metadata": {
    "papermill": {
     "duration": 0.008501,
     "end_time": "2025-02-12T01:44:18.974904",
     "exception": false,
     "start_time": "2025-02-12T01:44:18.966403",
     "status": "completed"
    },
    "tags": []
   },
   "source": [
    "**Summary:**  \n",
    "* Creates a new column \"Burnout High\".\n",
    "* Uses .apply() with a lambda function to assign values:\n",
    "   * if \"Burnout Frequency\" is 2, it assigns      1 (indicating high burnout).\n",
    "   * Otherwise, it assigns 0 (indicating low      burnout)."
   ]
  },
  {
   "cell_type": "markdown",
   "id": "d113d3da",
   "metadata": {
    "papermill": {
     "duration": 0.008455,
     "end_time": "2025-02-12T01:44:18.992158",
     "exception": false,
     "start_time": "2025-02-12T01:44:18.983703",
     "status": "completed"
    },
    "tags": []
   },
   "source": [
    "**3.6 Data Overview**  \n",
    "Get a general overview of how our dataset looks like after preprocessing. "
   ]
  },
  {
   "cell_type": "code",
   "execution_count": 11,
   "id": "8df2ba3a",
   "metadata": {
    "execution": {
     "iopub.execute_input": "2025-02-12T01:44:19.012394Z",
     "iopub.status.busy": "2025-02-12T01:44:19.012025Z",
     "iopub.status.idle": "2025-02-12T01:44:19.035717Z",
     "shell.execute_reply": "2025-02-12T01:44:19.034485Z"
    },
    "papermill": {
     "duration": 0.036208,
     "end_time": "2025-02-12T01:44:19.037728",
     "exception": false,
     "start_time": "2025-02-12T01:44:19.001520",
     "status": "completed"
    },
    "tags": []
   },
   "outputs": [
    {
     "data": {
      "text/html": [
       "<div>\n",
       "<style scoped>\n",
       "    .dataframe tbody tr th:only-of-type {\n",
       "        vertical-align: middle;\n",
       "    }\n",
       "\n",
       "    .dataframe tbody tr th {\n",
       "        vertical-align: top;\n",
       "    }\n",
       "\n",
       "    .dataframe thead th {\n",
       "        text-align: right;\n",
       "    }\n",
       "</style>\n",
       "<table border=\"1\" class=\"dataframe\">\n",
       "  <thead>\n",
       "    <tr style=\"text-align: right;\">\n",
       "      <th></th>\n",
       "      <th>Employee Type</th>\n",
       "      <th>Stress Level</th>\n",
       "      <th>Burnout Frequency</th>\n",
       "      <th>Job Satisfaction</th>\n",
       "      <th>Access to EAPs</th>\n",
       "      <th>Mental Health Absences</th>\n",
       "      <th>Turnover Intention</th>\n",
       "      <th>Department_Assisted Living</th>\n",
       "      <th>Department_General Medicine</th>\n",
       "      <th>Department_General Practice</th>\n",
       "      <th>...</th>\n",
       "      <th>Department_Specialty Care</th>\n",
       "      <th>Workplace Factor_Emotional Demands</th>\n",
       "      <th>Workplace Factor_Heavy Workload</th>\n",
       "      <th>Workplace Factor_Job Insecurity</th>\n",
       "      <th>Workplace Factor_Poor Work Environment</th>\n",
       "      <th>Workplace Factor_Safety Concerns</th>\n",
       "      <th>Workplace Factor_Unclear Job Expectations</th>\n",
       "      <th>Workplace Factor_Work-Life Imbalance</th>\n",
       "      <th>Department</th>\n",
       "      <th>Burnout High</th>\n",
       "    </tr>\n",
       "  </thead>\n",
       "  <tbody>\n",
       "    <tr>\n",
       "      <th>0</th>\n",
       "      <td>Pediatric Nurse</td>\n",
       "      <td>0.8</td>\n",
       "      <td>2</td>\n",
       "      <td>0.25</td>\n",
       "      <td>1</td>\n",
       "      <td>0.315789</td>\n",
       "      <td>0</td>\n",
       "      <td>False</td>\n",
       "      <td>False</td>\n",
       "      <td>False</td>\n",
       "      <td>...</td>\n",
       "      <td>False</td>\n",
       "      <td>False</td>\n",
       "      <td>True</td>\n",
       "      <td>False</td>\n",
       "      <td>False</td>\n",
       "      <td>False</td>\n",
       "      <td>False</td>\n",
       "      <td>False</td>\n",
       "      <td>Pediatrics</td>\n",
       "      <td>1</td>\n",
       "    </tr>\n",
       "    <tr>\n",
       "      <th>1</th>\n",
       "      <td>Laboratory Technician</td>\n",
       "      <td>0.8</td>\n",
       "      <td>2</td>\n",
       "      <td>0.00</td>\n",
       "      <td>1</td>\n",
       "      <td>0.631579</td>\n",
       "      <td>0</td>\n",
       "      <td>False</td>\n",
       "      <td>False</td>\n",
       "      <td>False</td>\n",
       "      <td>...</td>\n",
       "      <td>False</td>\n",
       "      <td>False</td>\n",
       "      <td>False</td>\n",
       "      <td>False</td>\n",
       "      <td>False</td>\n",
       "      <td>True</td>\n",
       "      <td>False</td>\n",
       "      <td>False</td>\n",
       "      <td>Laboratory</td>\n",
       "      <td>1</td>\n",
       "    </tr>\n",
       "    <tr>\n",
       "      <th>2</th>\n",
       "      <td>Nursing Assistant</td>\n",
       "      <td>0.4</td>\n",
       "      <td>1</td>\n",
       "      <td>0.25</td>\n",
       "      <td>1</td>\n",
       "      <td>0.473684</td>\n",
       "      <td>1</td>\n",
       "      <td>True</td>\n",
       "      <td>False</td>\n",
       "      <td>False</td>\n",
       "      <td>...</td>\n",
       "      <td>False</td>\n",
       "      <td>False</td>\n",
       "      <td>False</td>\n",
       "      <td>False</td>\n",
       "      <td>True</td>\n",
       "      <td>False</td>\n",
       "      <td>False</td>\n",
       "      <td>False</td>\n",
       "      <td>Assisted Living</td>\n",
       "      <td>0</td>\n",
       "    </tr>\n",
       "    <tr>\n",
       "      <th>3</th>\n",
       "      <td>Medical Assistant</td>\n",
       "      <td>0.6</td>\n",
       "      <td>0</td>\n",
       "      <td>0.75</td>\n",
       "      <td>0</td>\n",
       "      <td>0.578947</td>\n",
       "      <td>0</td>\n",
       "      <td>False</td>\n",
       "      <td>False</td>\n",
       "      <td>False</td>\n",
       "      <td>...</td>\n",
       "      <td>False</td>\n",
       "      <td>False</td>\n",
       "      <td>False</td>\n",
       "      <td>False</td>\n",
       "      <td>True</td>\n",
       "      <td>False</td>\n",
       "      <td>False</td>\n",
       "      <td>False</td>\n",
       "      <td>Outpatient Services</td>\n",
       "      <td>0</td>\n",
       "    </tr>\n",
       "    <tr>\n",
       "      <th>4</th>\n",
       "      <td>Registered Nurse</td>\n",
       "      <td>0.8</td>\n",
       "      <td>1</td>\n",
       "      <td>0.25</td>\n",
       "      <td>1</td>\n",
       "      <td>0.368421</td>\n",
       "      <td>0</td>\n",
       "      <td>False</td>\n",
       "      <td>True</td>\n",
       "      <td>False</td>\n",
       "      <td>...</td>\n",
       "      <td>False</td>\n",
       "      <td>False</td>\n",
       "      <td>False</td>\n",
       "      <td>False</td>\n",
       "      <td>False</td>\n",
       "      <td>False</td>\n",
       "      <td>False</td>\n",
       "      <td>True</td>\n",
       "      <td>General Medicine</td>\n",
       "      <td>0</td>\n",
       "    </tr>\n",
       "  </tbody>\n",
       "</table>\n",
       "<p>5 rows × 25 columns</p>\n",
       "</div>"
      ],
      "text/plain": [
       "           Employee Type  Stress Level  Burnout Frequency  Job Satisfaction  \\\n",
       "0        Pediatric Nurse           0.8                  2              0.25   \n",
       "1  Laboratory Technician           0.8                  2              0.00   \n",
       "2      Nursing Assistant           0.4                  1              0.25   \n",
       "3      Medical Assistant           0.6                  0              0.75   \n",
       "4       Registered Nurse           0.8                  1              0.25   \n",
       "\n",
       "   Access to EAPs  Mental Health Absences  Turnover Intention  \\\n",
       "0               1                0.315789                   0   \n",
       "1               1                0.631579                   0   \n",
       "2               1                0.473684                   1   \n",
       "3               0                0.578947                   0   \n",
       "4               1                0.368421                   0   \n",
       "\n",
       "   Department_Assisted Living  Department_General Medicine  \\\n",
       "0                       False                        False   \n",
       "1                       False                        False   \n",
       "2                        True                        False   \n",
       "3                       False                        False   \n",
       "4                       False                         True   \n",
       "\n",
       "   Department_General Practice  ...  Department_Specialty Care  \\\n",
       "0                        False  ...                      False   \n",
       "1                        False  ...                      False   \n",
       "2                        False  ...                      False   \n",
       "3                        False  ...                      False   \n",
       "4                        False  ...                      False   \n",
       "\n",
       "   Workplace Factor_Emotional Demands  Workplace Factor_Heavy Workload  \\\n",
       "0                               False                             True   \n",
       "1                               False                            False   \n",
       "2                               False                            False   \n",
       "3                               False                            False   \n",
       "4                               False                            False   \n",
       "\n",
       "   Workplace Factor_Job Insecurity  Workplace Factor_Poor Work Environment  \\\n",
       "0                            False                                   False   \n",
       "1                            False                                   False   \n",
       "2                            False                                    True   \n",
       "3                            False                                    True   \n",
       "4                            False                                   False   \n",
       "\n",
       "   Workplace Factor_Safety Concerns  \\\n",
       "0                             False   \n",
       "1                              True   \n",
       "2                             False   \n",
       "3                             False   \n",
       "4                             False   \n",
       "\n",
       "   Workplace Factor_Unclear Job Expectations  \\\n",
       "0                                      False   \n",
       "1                                      False   \n",
       "2                                      False   \n",
       "3                                      False   \n",
       "4                                      False   \n",
       "\n",
       "   Workplace Factor_Work-Life Imbalance           Department  Burnout High  \n",
       "0                                 False           Pediatrics             1  \n",
       "1                                 False           Laboratory             1  \n",
       "2                                 False      Assisted Living             0  \n",
       "3                                 False  Outpatient Services             0  \n",
       "4                                  True     General Medicine             0  \n",
       "\n",
       "[5 rows x 25 columns]"
      ]
     },
     "execution_count": 11,
     "metadata": {},
     "output_type": "execute_result"
    }
   ],
   "source": [
    "data.head()"
   ]
  },
  {
   "cell_type": "markdown",
   "id": "942238e3",
   "metadata": {
    "papermill": {
     "duration": 0.008818,
     "end_time": "2025-02-12T01:44:19.055909",
     "exception": false,
     "start_time": "2025-02-12T01:44:19.047091",
     "status": "completed"
    },
    "tags": []
   },
   "source": [
    "# 4 Exploratory Data Analysis (EDA).  \n",
    "**Goal:** to gain insights on the dataset and answer specific business questions."
   ]
  },
  {
   "cell_type": "markdown",
   "id": "0cc23468",
   "metadata": {
    "papermill": {
     "duration": 0.009071,
     "end_time": "2025-02-12T01:44:19.074033",
     "exception": false,
     "start_time": "2025-02-12T01:44:19.064962",
     "status": "completed"
    },
    "tags": []
   },
   "source": [
    "**4.1 What is the distribution of mental health scores among employees?**   \n",
    "**Importance:** Understanding the distribution helps identify the overall well-being of employees. Knowing the distribution can highlight areas where employees may be struggling and provide guidance to imporove their well-being hence improve productivity."
   ]
  },
  {
   "cell_type": "code",
   "execution_count": 12,
   "id": "f635b633",
   "metadata": {
    "execution": {
     "iopub.execute_input": "2025-02-12T01:44:19.094383Z",
     "iopub.status.busy": "2025-02-12T01:44:19.093991Z",
     "iopub.status.idle": "2025-02-12T01:44:19.511511Z",
     "shell.execute_reply": "2025-02-12T01:44:19.510351Z"
    },
    "papermill": {
     "duration": 0.430848,
     "end_time": "2025-02-12T01:44:19.513948",
     "exception": false,
     "start_time": "2025-02-12T01:44:19.083100",
     "status": "completed"
    },
    "tags": []
   },
   "outputs": [
    {
     "name": "stderr",
     "output_type": "stream",
     "text": [
      "/usr/local/lib/python3.10/dist-packages/seaborn/_oldcore.py:1119: FutureWarning: use_inf_as_na option is deprecated and will be removed in a future version. Convert inf values to NaN before operating instead.\n",
      "  with pd.option_context('mode.use_inf_as_na', True):\n"
     ]
    },
    {
     "data": {
      "image/png": "[encoded data removed]",
      "text/plain": [
       "<Figure size 1000x600 with 1 Axes>"
      ]
     },
     "metadata": {},
     "output_type": "display_data"
    }
   ],
   "source": [
    "plt.figure(figsize=(10, 6))\n",
    "sns.histplot(data['Job Satisfaction'], bins=10, kde=True)\n",
    "plt.title('Distribution of Job Satisfaction Scores')\n",
    "plt.xlabel('Job Satisfaction Score')\n",
    "plt.ylabel('Frequency')\n",
    "plt.show()\n"
   ]
  },
  {
   "cell_type": "markdown",
   "id": "20455f16",
   "metadata": {
    "papermill": {
     "duration": 0.010091,
     "end_time": "2025-02-12T01:44:19.534823",
     "exception": false,
     "start_time": "2025-02-12T01:44:19.524732",
     "status": "completed"
    },
    "tags": []
   },
   "source": [
    "**Explanation:** \n",
    "* **Visualization:** A histogram is used to show the distribution of job satisfaction scores among employees.\n",
    "\n",
    "* **Seaborn histplot:** This function is used to create the histogram. The bins=10 argument divides the data into 10 bins, and kde=True adds a kernel density estimate to the plot for a smoother representation of the distribution.\n",
    "\n",
    "* **Interpretation:** The histogram shows how job satisfaction scores are spread among employees. Peaks in the graph indicate common satisfaction levels, while the overall shape helps identify trends. If most scores are high, employees are generally satisfied; if low, many are unhappy. This helps understand workplace morale and areas for improvement."
   ]
  },
  {
   "cell_type": "markdown",
   "id": "a70f03e3",
   "metadata": {
    "papermill": {
     "duration": 0.009948,
     "end_time": "2025-02-12T01:44:19.555255",
     "exception": false,
     "start_time": "2025-02-12T01:44:19.545307",
     "status": "completed"
    },
    "tags": []
   },
   "source": [
    "**4.2 Are there significant differences in burnout levels across different departments?**  \n",
    "**Importance:** Identifying departments with higher burnout levels can help target interventions and allocate resources effectively."
   ]
  },
  {
   "cell_type": "code",
   "execution_count": 13,
   "id": "0c2c9df6",
   "metadata": {
    "execution": {
     "iopub.execute_input": "2025-02-12T01:44:19.577294Z",
     "iopub.status.busy": "2025-02-12T01:44:19.576864Z",
     "iopub.status.idle": "2025-02-12T01:44:19.905412Z",
     "shell.execute_reply": "2025-02-12T01:44:19.904227Z"
    },
    "papermill": {
     "duration": 0.342001,
     "end_time": "2025-02-12T01:44:19.907449",
     "exception": false,
     "start_time": "2025-02-12T01:44:19.565448",
     "status": "completed"
    },
    "tags": []
   },
   "outputs": [
    {
     "data": {
      "image/png": "[encoded data removed]",
      "text/plain": [
       "<Figure size 1200x600 with 1 Axes>"
      ]
     },
     "metadata": {},
     "output_type": "display_data"
    }
   ],
   "source": [
    "fig, ax = plt.subplots(figsize=(12, 6))\n",
    "# Boxplot for Burnout Frequency across Departments\n",
    "sns.boxplot(x='Department', y='Burnout Frequency', data=data, ax=ax)\n",
    "# Customize plot\n",
    "ax.set_title('Burnout Levels Across Departments')\n",
    "ax.set_xlabel('Department')\n",
    "ax.set_ylabel('Burnout Frequency')\n",
    "plt.xticks(rotation=45)  # Rotate department names for better readability\n",
    "# Show the plot\n",
    "plt.show()"
   ]
  },
  {
   "cell_type": "markdown",
   "id": "1b2b22bf",
   "metadata": {
    "papermill": {
     "duration": 0.011364,
     "end_time": "2025-02-12T01:44:19.930869",
     "exception": false,
     "start_time": "2025-02-12T01:44:19.919505",
     "status": "completed"
    },
    "tags": []
   },
   "source": [
    "**Explanation:**  \n",
    "* **Visualization:** A boxplot is used to compare the distribution of burnout levels across different departments.\n",
    "\n",
    "* **Seaborn boxplot:** This function is used to create the boxplot. The x-axis represents different departments, and the y-axis represents burnout frequency.\n",
    "\n",
    "* **Interpretation:** The histogram shows how job satisfaction scores are spread among employees. Peaks in the graph indicate common satisfaction levels, while the overall shape helps identify trends. If most scores are high, employees are generally satisfied; if low, many are unhappy. This helps understand workplace morale and areas for improvement."
   ]
  },
  {
   "cell_type": "markdown",
   "id": "b56ed000",
   "metadata": {
    "papermill": {
     "duration": 0.01141,
     "end_time": "2025-02-12T01:44:19.953847",
     "exception": false,
     "start_time": "2025-02-12T01:44:19.942437",
     "status": "completed"
    },
    "tags": []
   },
   "source": [
    "**4.3 What factors contribute to high turnover rates?**  \n",
    "**Importance:** Understanding the factors that contribute to high turnover rates can help develop strategies to reduce turnover and retain employees."
   ]
  },
  {
   "cell_type": "code",
   "execution_count": 14,
   "id": "9d5c482f",
   "metadata": {
    "execution": {
     "iopub.execute_input": "2025-02-12T01:44:19.978457Z",
     "iopub.status.busy": "2025-02-12T01:44:19.978078Z",
     "iopub.status.idle": "2025-02-12T01:44:20.277430Z",
     "shell.execute_reply": "2025-02-12T01:44:20.276223Z"
    },
    "papermill": {
     "duration": 0.313949,
     "end_time": "2025-02-12T01:44:20.279363",
     "exception": false,
     "start_time": "2025-02-12T01:44:19.965414",
     "status": "completed"
    },
    "tags": []
   },
   "outputs": [
    {
     "data": {
      "image/png": "[encoded data removed]",
      "text/plain": [
       "<Figure size 800x600 with 2 Axes>"
      ]
     },
     "metadata": {},
     "output_type": "display_data"
    }
   ],
   "source": [
    "#relevant columns to use\n",
    "correlation_matrix = data[[\"Turnover Intention\", \"Stress Level\", \"Job Satisfaction\", \"Burnout Frequency\"]].corr()\n",
    "#heatmap plotting\n",
    "plt.figure(figsize=(8, 6))\n",
    "sns.heatmap(correlation_matrix, annot=True, cmap=\"coolwarm\", fmt=\".2f\", linewidths=0.5)\n",
    "plt.title(\"Correlation Between Turnover and Workplace Factors\")\n",
    "plt.show()"
   ]
  },
  {
   "cell_type": "markdown",
   "id": "29f4e7d4",
   "metadata": {
    "papermill": {
     "duration": 0.012184,
     "end_time": "2025-02-12T01:44:20.304445",
     "exception": false,
     "start_time": "2025-02-12T01:44:20.292261",
     "status": "completed"
    },
    "tags": []
   },
   "source": [
    "**Explantion**  \n",
    "* **Visualization:** A heatmap is used to show the correlation between turnover and key workplace factors, including stress level, job satisfaction, and burnout frequency.\n",
    "* **Seaborn heatmap:** This function creates a color-coded matrix where darker shades represent stronger correlations. The correlation values are displayed within each cell for better interpretation.\n",
    "* **Interpretation:** The heatmap shows that stress levels and burnout frequency have a very strong effect on the turnover. Most employees experiencing this tend to leave.\n",
    "  Job Satisfaction of the other hand reduces the turnover rates as employees with high satisfaction tend to not quit"
   ]
  },
  {
   "cell_type": "markdown",
   "id": "35986eba",
   "metadata": {
    "papermill": {
     "duration": 0.01229,
     "end_time": "2025-02-12T01:44:20.329242",
     "exception": false,
     "start_time": "2025-02-12T01:44:20.316952",
     "status": "completed"
    },
    "tags": []
   },
   "source": [
    "**4.4 How does access to Employee Assistance Programs (EAPs) impact burnout levels?**  \n",
    "**Importance:** Understanding whether EAPs reduce burnout helps the company decide whether to invest more in employee support programs. If EAPs lower burnout, expanding access could improve productivity and retention."
   ]
  },
  {
   "cell_type": "code",
   "execution_count": 15,
   "id": "7e4a38e7",
   "metadata": {
    "execution": {
     "iopub.execute_input": "2025-02-12T01:44:20.356270Z",
     "iopub.status.busy": "2025-02-12T01:44:20.355848Z",
     "iopub.status.idle": "2025-02-12T01:44:20.665342Z",
     "shell.execute_reply": "2025-02-12T01:44:20.663992Z"
    },
    "papermill": {
     "duration": 0.325333,
     "end_time": "2025-02-12T01:44:20.667342",
     "exception": false,
     "start_time": "2025-02-12T01:44:20.342009",
     "status": "completed"
    },
    "tags": []
   },
   "outputs": [
    {
     "data": {
      "image/png": "[encoded data removed]",
      "text/plain": [
       "<Figure size 1000x600 with 1 Axes>"
      ]
     },
     "metadata": {},
     "output_type": "display_data"
    }
   ],
   "source": [
    "plt.figure(figsize=(10,6))\n",
    "sns.boxplot(x=\"Access to EAPs\", y=\"Burnout Frequency\", data=data)\n",
    "plt.title(\"Impact of EAP Access on Burnout Levels\")\n",
    "plt.xlabel(\"Access to Employee Assistance Programs (EAPs)\")\n",
    "plt.ylabel(\"Burnout Frequency\")\n",
    "plt.show()\n"
   ]
  },
  {
   "cell_type": "markdown",
   "id": "b6aa8ec7",
   "metadata": {
    "papermill": {
     "duration": 0.013228,
     "end_time": "2025-02-12T01:44:20.694337",
     "exception": false,
     "start_time": "2025-02-12T01:44:20.681109",
     "status": "completed"
    },
    "tags": []
   },
   "source": [
    "**Explanation**  \n",
    "* **Visualization:** A boxplot is used to compare burnout frequency across employees who have access to EAPs and those who do not.  \n",
    "* **Seaborn boxpot:** This function creates a box-and-whisker plot, showing the distribution of burnout levels for each group. The median, quartiles, and outliers help in understanding the spread of burnout levels.  \n",
    "* **Interpretation:** The boxplot shows that employees with access to EAPs tend to have lower burnout frequency, as indicated by a lower median and a more compressed distribution. This suggests that workplace assistance programs play a role in reducing burnout and improving employee well-being. If a significant difference is observed, the company may consider expanding access to EAPs."
   ]
  },
  {
   "cell_type": "markdown",
   "id": "0ff97d68",
   "metadata": {
    "papermill": {
     "duration": 0.012965,
     "end_time": "2025-02-12T01:44:20.720699",
     "exception": false,
     "start_time": "2025-02-12T01:44:20.707734",
     "status": "completed"
    },
    "tags": []
   },
   "source": [
    "**4.5 Do employees experiencing high stress levels have a higher turnover intention?**  \n",
    "**Importance:** High turnover can lead to increased hiring costs and lower team stability. If stress levels are strongly correlated with turnover intention, HR can implement policies to reduce stress and improve retention."
   ]
  },
  {
   "cell_type": "code",
   "execution_count": 16,
   "id": "7d00add1",
   "metadata": {
    "execution": {
     "iopub.execute_input": "2025-02-12T01:44:20.748899Z",
     "iopub.status.busy": "2025-02-12T01:44:20.748466Z",
     "iopub.status.idle": "2025-02-12T01:44:29.612317Z",
     "shell.execute_reply": "2025-02-12T01:44:29.610935Z"
    },
    "papermill": {
     "duration": 8.880136,
     "end_time": "2025-02-12T01:44:29.614216",
     "exception": false,
     "start_time": "2025-02-12T01:44:20.734080",
     "status": "completed"
    },
    "tags": []
   },
   "outputs": [
    {
     "data": {
      "image/png": "[encoded data removed]",
      "text/plain": [
       "<Figure size 1000x600 with 1 Axes>"
      ]
     },
     "metadata": {},
     "output_type": "display_data"
    }
   ],
   "source": [
    "plt.figure(figsize=(10,6))\n",
    "sns.regplot(x=\"Stress Level\", y=\"Turnover Intention\", data=data, logistic=True, scatter_kws={\"alpha\":0.5})\n",
    "plt.title(\"Relationship Between Stress Levels and Turnover Intention\")\n",
    "plt.xlabel(\"Stress Level\")\n",
    "plt.ylabel(\"Turnover Intention (0 = No, 1 = Yes)\")\n",
    "plt.show()\n"
   ]
  },
  {
   "cell_type": "markdown",
   "id": "a8f12966",
   "metadata": {
    "papermill": {
     "duration": 0.013744,
     "end_time": "2025-02-12T01:44:29.642617",
     "exception": false,
     "start_time": "2025-02-12T01:44:29.628873",
     "status": "completed"
    },
    "tags": []
   },
   "source": [
    "**Explanation**  \n",
    "* **Visualization:** A regression plot is used to visualize the relationship between stress levels and turnover intention.\n",
    "* **Seaborn regplot:** This function creates a scatter plot with a logistic regression line, helping identify patterns between stress levels and the likelihood of employees leaving.\n",
    "* **Interpretation:** Employees with higher stress levels are more likely to consider leaving, as seen in the upward trend of the regression line. This suggests that stress management strategies, such as workload reduction or wellness programs, could help in reducing employee turnover."
   ]
  },
  {
   "cell_type": "markdown",
   "id": "4f9169c1",
   "metadata": {
    "papermill": {
     "duration": 0.01366,
     "end_time": "2025-02-12T01:44:29.670442",
     "exception": false,
     "start_time": "2025-02-12T01:44:29.656782",
     "status": "completed"
    },
    "tags": []
   },
   "source": [
    "# 5 Conclusion  \n",
    "**5.1 Strengths of the Analysis**  \n",
    "* Identified Key Burnout Factors: We analyzed how different workplace factors, Access to EAPs, and stress levels contribute to burnout.  \n",
    "* Explored Turnover Causes: We found strong correlations between burnout, job dissatisfaction, and turnover.  \n",
    "* Provided Actionable Insights: The analysis helps in designing workplace interventions to improve employee well-being."
   ]
  },
  {
   "cell_type": "markdown",
   "id": "b0fb5a28",
   "metadata": {
    "papermill": {
     "duration": 0.013842,
     "end_time": "2025-02-12T01:44:29.698399",
     "exception": false,
     "start_time": "2025-02-12T01:44:29.684557",
     "status": "completed"
    },
    "tags": []
   },
   "source": [
    "**5.2 Limitations of the Analysis**  \n",
    "* Lack of Time Data: Since the dataset doesn’t have a date or timestamp, we couldn’t analyze burnout trends across different times of the year.  \n",
    "* Potential Bias: Self-reported burnout levels may not fully capture real stress levels.  \n",
    "* Limited External Factors: External factors like hospital workload, seasonal demand, or leadership changes were not included in the dataset.\n",
    "* Lack of age data: Since the dataset does not contain age, we cannot find out the burnout trends among employess of different ages. \n",
    "\n"
   ]
  },
  {
   "cell_type": "markdown",
   "id": "8dc3282a",
   "metadata": {
    "papermill": {
     "duration": 0.014099,
     "end_time": "2025-02-12T01:44:29.726817",
     "exception": false,
     "start_time": "2025-02-12T01:44:29.712718",
     "status": "completed"
    },
    "tags": []
   },
   "source": [
    "**5.3 Insights and Implications**  \n",
    "* Workplace Factors Play a Big Role → Employees with unclear job expectations, heavy workloads, or poor work environments had higher burnout rates.  \n",
    "**Implication:** Addressing these issues can improve mental health and retention.  \n",
    "* Burnout and Turnover Are Strongly Linked → Employees with frequent burnout episodes are more likely to leave.  \n",
    "**Implication:** Retention strategies should focus on reducing burnout.  \n",
    "* Job Satisfaction Affects Burnout → Employees with low job satisfaction reported higher burnout.  \n",
    "**Implication:** Improving workplace conditions can enhance employee engagement."
   ]
  },
  {
   "cell_type": "markdown",
   "id": "c498623e",
   "metadata": {
    "papermill": {
     "duration": 0.014127,
     "end_time": "2025-02-12T01:44:29.755399",
     "exception": false,
     "start_time": "2025-02-12T01:44:29.741272",
     "status": "completed"
    },
    "tags": []
   },
   "source": [
    "**5.4 Data-Driven Recommendations**  \n",
    "1. **Implement Targeted Mental Health Programs:**\n",
    "* Provide Employee Assistance Programs (EAPs) in high-stress departments.\n",
    "* Offer burnout prevention workshops and mental health days.\n",
    "2. **Improve Work-Life Balance:**\n",
    "* Adjust staffing levels in high-burnout departments.  \n",
    "* Encourage flexible scheduling where possible.   \n",
    "3️. **Enhance Job Satisfaction:**\n",
    "* Address workplace issues (e.g., clarifying job roles, improving team communication).\n",
    "* Recognize and reward employees to boost morale.  \n",
    "4️. **Monitor Burnout Trends Proactively:**  \n",
    "* Even without time data, regularly survey employees on burnout.\n",
    "* Use predictive analytics to identify employees at risk and intervene early.  \n",
    "5️. **Reduce Turnover by Tackling Burnout at the Source:**  \n",
    "* Focus on high-risk groups (e.g., those in stressful roles).\n",
    "* Create career growth opportunities to increase employee engagement.  \n"
   ]
  },
  {
   "cell_type": "markdown",
   "id": "14622a84",
   "metadata": {
    "papermill": {
     "duration": 0.013904,
     "end_time": "2025-02-12T01:44:29.784199",
     "exception": false,
     "start_time": "2025-02-12T01:44:29.770295",
     "status": "completed"
    },
    "tags": []
   },
   "source": [
    "**5.5 Final Thought**  \n",
    "Investing in mental health support, workload management, and job satisfaction improvements will boost employee well-being and reduce turnover, leading to a healthier, more productive workforce."
   ]
  }
 ],
 "metadata": {
  "kaggle": {
   "accelerator": "none",
   "dataSources": [
    {
     "datasetId": 6506247,
     "sourceId": 10519712,
     "sourceType": "datasetVersion"
    }
   ],
   "dockerImageVersionId": 30886,
   "isGpuEnabled": false,
   "isInternetEnabled": true,
   "language": "python",
   "sourceType": "notebook"
  },
  "kernelspec": {
   "display_name": "Python 3",
   "language": "python",
   "name": "python3"
  },
  "language_info": {
   "codemirror_mode": {
    "name": "ipython",
    "version": 3
   },
   "file_extension": ".py",
   "mimetype": "text/x-python",
   "name": "python",
   "nbconvert_exporter": "python",
   "pygments_lexer": "ipython3",
   "version": "3.10.12"
  },
  "papermill": {
   "default_parameters": {},
   "duration": 19.250568,
   "end_time": "2025-02-12T01:44:30.620066",
   "environment_variables": {},
   "exception": null,
   "input_path": "__notebook__.ipynb",
   "output_path": "__notebook__.ipynb",
   "parameters": {},
   "start_time": "2025-02-12T01:44:11.369498",
   "version": "2.6.0"
  }
 },
 "nbformat": 4,
 "nbformat_minor": 5
}
